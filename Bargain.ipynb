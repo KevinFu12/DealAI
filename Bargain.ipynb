{
 "cells": [
  {
   "cell_type": "code",
   "execution_count": 1,
   "metadata": {},
   "outputs": [
    {
     "ename": "ModuleNotFoundError",
     "evalue": "No module named 'numpy'",
     "output_type": "error",
     "traceback": [
      "\u001b[1;31m---------------------------------------------------------------------------\u001b[0m",
      "\u001b[1;31mModuleNotFoundError\u001b[0m                       Traceback (most recent call last)",
      "Cell \u001b[1;32mIn[1], line 1\u001b[0m\n\u001b[1;32m----> 1\u001b[0m \u001b[38;5;28;01mimport\u001b[39;00m \u001b[38;5;21;01mnumpy\u001b[39;00m \u001b[38;5;28;01mas\u001b[39;00m \u001b[38;5;21;01mnp\u001b[39;00m\n\u001b[0;32m      2\u001b[0m \u001b[38;5;28;01mimport\u001b[39;00m \u001b[38;5;21;01mpandas\u001b[39;00m \u001b[38;5;28;01mas\u001b[39;00m \u001b[38;5;21;01mpd\u001b[39;00m\n\u001b[0;32m      4\u001b[0m \u001b[38;5;66;03m# Set random seed for reproducibility\u001b[39;00m\n",
      "\u001b[1;31mModuleNotFoundError\u001b[0m: No module named 'numpy'"
     ]
    }
   ],
   "source": [
    "import numpy as np\n",
    "import pandas as pd\n",
    "\n",
    "# Set random seed for reproducibility\n",
    "np.random.seed(42)\n",
    "\n",
    "# Parameters for simulation\n",
    "num_samples = 1000\n",
    "initial_prices = np.random.uniform(50, 200, num_samples)  # Initial price\n",
    "initial_delivery = np.random.uniform(2, 14, num_samples)  # Initial delivery time (days)\n",
    "counter_prices = initial_prices - np.random.uniform(5, 30, num_samples)  # Counter price\n",
    "counter_delivery = initial_delivery + np.random.uniform(-3, 3, num_samples)  # Counter delivery time\n",
    "final_prices = counter_prices - np.random.uniform(1, 15, num_samples)  # Final price\n",
    "final_delivery = counter_delivery + np.random.uniform(-2, 2, num_samples)  # Final delivery time\n",
    "\n",
    "# Create DataFrame\n",
    "data = pd.DataFrame({\n",
    "    'Initial_Price': initial_prices,\n",
    "    'Initial_Delivery': initial_delivery,\n",
    "    'Counter_Price': counter_prices,\n",
    "    'Counter_Delivery': counter_delivery,\n",
    "    'Final_Price': final_prices,\n",
    "    'Final_Delivery': final_delivery\n",
    "})\n",
    "\n",
    "# Save dataset\n",
    "data.to_csv('negotiation_data.csv', index=False)\n",
    "print(data.head())"
   ]
  }
 ],
 "metadata": {
  "kernelspec": {
   "display_name": "Python 3",
   "language": "python",
   "name": "python3"
  },
  "language_info": {
   "codemirror_mode": {
    "name": "ipython",
    "version": 3
   },
   "file_extension": ".py",
   "mimetype": "text/x-python",
   "name": "python",
   "nbconvert_exporter": "python",
   "pygments_lexer": "ipython3",
   "version": "3.13.0"
  }
 },
 "nbformat": 4,
 "nbformat_minor": 2
}
